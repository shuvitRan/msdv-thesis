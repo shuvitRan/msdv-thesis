{
 "cells": [
  {
   "cell_type": "code",
   "execution_count": 1,
   "metadata": {},
   "outputs": [],
   "source": [
    "import pandas as pd\n",
    "import numpy as np"
   ]
  },
  {
   "cell_type": "code",
   "execution_count": 8,
   "metadata": {},
   "outputs": [
    {
     "name": "stdout",
     "output_type": "stream",
     "text": [
      "   REGION_CODE TELPHONE_NUMBER ORGAN_CODE  ORGAN_FULL_NAME ORGAN_POSTCODE  \\\n",
      "0       440303        82699999  455768366  中国人民武装警察边防部队总医院         518029   \n",
      "1       440307        66618168  PDY712164  中国医学科学院肿瘤医院深圳医院         518000   \n",
      "2       440304   0755-83923333  455755741         北京大学深圳医院         518036   \n",
      "3       440306     13710898870  319583850       南方医科大学深圳医院         518000   \n",
      "4       440307   0755-61215958  PDY000917           深圳万东医院         518112   \n",
      "\n",
      "  ORGAN_GRADE_CODE ORGAN_TYPE_CODE       ORGAN_NAME  ORGAN_PLACE_CODE  \\\n",
      "0                1            A100  中国人民武装警察边防部队总医院         440303010   \n",
      "1                9            A514  中国医学科学院肿瘤医院深圳医院         440307016   \n",
      "2                3            A100         北京大学深圳医院         440304008   \n",
      "3                9            A100       南方医科大学深圳医院         440306001   \n",
      "4                9            A100           深圳万东医院         440307014   \n",
      "\n",
      "     ORGAN_ADDRESS ORGAN_CHARGE_PERSON  ECONOMY_TYPE_CODE ORGAN_EMAIL  \n",
      "0         罗湖区红岗路8号                 张益谋                 11           -  \n",
      "1    深圳市龙岗区宝荷路113号                  付林                 11           -  \n",
      "2      深圳市莲花路1120号                   -                 11           -  \n",
      "3   深圳市宝安区新湖路1333号                 廖四照                 11           -  \n",
      "4  深圳市龙岗区布吉吉华路219号                   -                 17           -  \n"
     ]
    }
   ],
   "source": [
    "data = pd.read_csv(\"../../ShenzhenDataOrg/shenzhenHosOrg.csv\", encoding = 'utf-8')\n",
    "print(data.head())"
   ]
  },
  {
   "cell_type": "code",
   "execution_count": 12,
   "metadata": {},
   "outputs": [
    {
     "name": "stdout",
     "output_type": "stream",
     "text": [
      "          ZM  FWDH                                                 DZ    GXSJ  \\\n",
      "0    深圳市人民医院   120  深圳市罗湖区东门北路1017号大院和深圳市南山区龙苑路16号龙珠医院门诊楼一楼东、西侧；深圳...  2017年度   \n",
      "1  深圳市第二人民医院   120                                    深圳市福田区笋岗西路3002号  2017年度   \n",
      "2   北京大学深圳医院   120                        深圳市福田区莲花路1120号和龙岗区坂田街道华为百草园  2017年度   \n",
      "3     深圳市中医院   120                     深圳市福华路1号/罗湖区解放路3015号/罗湖区迎春路15号  2017年度   \n",
      "4  深圳市第三人民医院   120                                       深圳市龙岗区布澜路29号  2017年度   \n",
      "\n",
      "   ID  \n",
      "0   1  \n",
      "1   2  \n",
      "2   3  \n",
      "3   4  \n",
      "4   5  \n"
     ]
    }
   ],
   "source": [
    "emcdata = pd.read_csv(\"../../ShenzhenDataOrg/emcHos.csv\", encoding = 'utf-8')\n",
    "print(emcdata.head())"
   ]
  },
  {
   "cell_type": "code",
   "execution_count": 36,
   "metadata": {},
   "outputs": [
    {
     "name": "stdout",
     "output_type": "stream",
     "text": [
      "深圳市人民医院\n",
      "深圳市第二人民医院\n",
      "北京大学深圳医院\n",
      "深圳市中医院\n",
      "深圳市第三人民医院\n",
      "深圳市妇幼保健院\n",
      "深圳市儿童医院\n",
      "深圳市康宁医院\n",
      "深圳市人民医院龙华分院\n",
      "深圳市急救中心院前分站\n",
      "市急救中心眼科医院分站\n",
      "市急救中心香港大学深圳医院分站\n",
      "市急救中心市职业病防治院分站\n",
      "市急救中心西丽分站\n",
      "香港大学深圳医院\n",
      "南方医科大学深圳医院\n",
      "中山大学附属第八医院（深圳福田）\n",
      "广州中医药大学深圳医院\n",
      "深圳市福田区第二人民医院\n",
      "深圳市罗湖区人民医院\n",
      "深圳市罗湖区中医院\n",
      "深圳市南山区人民医院\n",
      "深圳市南山区蛇口人民医院\n",
      "南方科技大学医院（深圳市南山区西丽人民医院）\n",
      "深圳市盐田区人民医院\n",
      "深圳市宝安区人民医院\n",
      "深圳市宝安区中医院\n",
      "深圳市宝安区沙井人民医院\n",
      "深圳市宝安区中心医院（西乡人民医院）\n",
      "深圳市宝安区松岗人民医院\n",
      "深圳市宝安区石岩人民医院\n",
      "深圳市宝安区福永人民医院\n",
      "深圳市龙岗中心医院\n",
      "深圳市龙岗区人民医院 \n",
      "深圳市龙岗区中医院\n",
      "深圳市龙岗区第二人民医院（原布吉人民医院）\n",
      "深圳市龙岗区第三人民医院\n",
      "深圳市龙岗区第四人民医院\n",
      "深圳市龙岗区第五人民医院\n",
      "深圳市龙岗区第六人民医院\n",
      "深圳市龙岗区第七人民医院\n",
      "深圳市龙华区人民医院\n",
      "深圳市龙华区中心医院\n",
      "深圳市坪山区人民医院\n",
      "深圳市坪山区妇幼保健院\n",
      "中国科学院大学深圳医院（光明）\n",
      "深圳市大鹏新区妇幼保健院\n",
      "深圳市大鹏新区葵涌人民医院\n",
      "深圳市大鹏新区南澳人民医院\n",
      "深圳平乐骨伤科医院\n",
      "深圳武警医院\n",
      "深圳恒生医院\n",
      "深圳华侨医院\n",
      "深圳龙城医院\n",
      "深圳仁爱医院\n",
      "深圳广生医院\n",
      "深圳万丰医院\n",
      "深圳复亚医院\n",
      "深圳仁安医院\n",
      "深圳中海医院\n",
      "深圳慈海医院\n",
      "深圳龙翔医院\n",
      "深圳宝兴医院\n",
      "深圳罗岗医院\n",
      "深圳百合医院\n",
      "深圳坂田医院\n",
      "深圳雪象医院\n",
      "深圳宝田医院\n",
      "深圳伟光医院\n",
      "深圳健安医院\n",
      "深圳机场医疗急救中心\n",
      "市孙逸仙心血管医院\n"
     ]
    }
   ],
   "source": [
    "for elem2 in data[\"ORGAN_FULL_NAME\"]:\n",
    "    for elem in emcdata[\"ZM\"]:\n",
    "        if elem == elem2:\n",
    "            data[\"emc\"] = True\n",
    "        else:\n",
    "            data[\"emc\"] = False"
   ]
  },
  {
   "cell_type": "code",
   "execution_count": 34,
   "metadata": {},
   "outputs": [
    {
     "name": "stdout",
     "output_type": "stream",
     "text": [
      "0      False\n",
      "1      False\n",
      "2      False\n",
      "3      False\n",
      "4      False\n",
      "       ...  \n",
      "172    False\n",
      "173    False\n",
      "174    False\n",
      "175    False\n",
      "176    False\n",
      "Name: emc, Length: 177, dtype: bool\n"
     ]
    }
   ],
   "source": [
    "print(data[\"emc\"])"
   ]
  },
  {
   "cell_type": "code",
   "execution_count": 35,
   "metadata": {},
   "outputs": [
    {
     "data": {
      "text/plain": [
       "True"
      ]
     },
     "execution_count": 35,
     "metadata": {},
     "output_type": "execute_result"
    }
   ],
   "source": [
    "data[\"ORGAN_FULL_NAME\"][2]==emcdata[\"ZM\"][2]"
   ]
  },
  {
   "cell_type": "code",
   "execution_count": null,
   "metadata": {},
   "outputs": [],
   "source": []
  }
 ],
 "metadata": {
  "kernelspec": {
   "display_name": "Python 3",
   "language": "python",
   "name": "python3"
  },
  "language_info": {
   "codemirror_mode": {
    "name": "ipython",
    "version": 3
   },
   "file_extension": ".py",
   "mimetype": "text/x-python",
   "name": "python",
   "nbconvert_exporter": "python",
   "pygments_lexer": "ipython3",
   "version": "3.7.4"
  }
 },
 "nbformat": 4,
 "nbformat_minor": 2
}
