{
 "cells": [
  {
   "cell_type": "code",
   "execution_count": 15,
   "metadata": {},
   "outputs": [],
   "source": [
    "import pandas as pd\n",
    "import numpy as np\n",
    "from pandas.io.json import json_normalize"
   ]
  },
  {
   "cell_type": "code",
   "execution_count": 117,
   "metadata": {},
   "outputs": [
    {
     "name": "stdout",
     "output_type": "stream",
     "text": [
      "           hosname                                           location  \\\n",
      "0  中国人民武装警察边防部队总医院  {'lng': 114.1028711862163, 'lat': 22.573582231...   \n",
      "1  中国医学科学院肿瘤医院深圳医院  {'lng': 114.25069509949915, 'lat': 22.69437944...   \n",
      "2         北京大学深圳医院  {'lng': 113.95034982364623, 'lat': 22.54287159...   \n",
      "3       南方医科大学深圳医院  {'lng': 113.89674667774541, 'lat': 22.54429045...   \n",
      "4           深圳万东医院  {'lng': 114.11268798801271, 'lat': 22.60845166...   \n",
      "\n",
      "   precise  confidence  comprehension level  \n",
      "0        1          70            100    医疗  \n",
      "1        0          70            100    医疗  \n",
      "2        1          75            100    宾馆  \n",
      "3        1          70            100    医疗  \n",
      "4        1          70            100    医疗  \n",
      "<class 'pandas.core.frame.DataFrame'>\n"
     ]
    }
   ],
   "source": [
    "data = pd.read_json(\"../../ShenzhenDataOrg/hosGeo.json\", encoding = 'utf-8')\n",
    "print(data.head())\n",
    "print(type(data))\n",
    "# data=data.values.flatten()\n",
    "# print(data)"
   ]
  },
  {
   "cell_type": "code",
   "execution_count": 27,
   "metadata": {},
   "outputs": [],
   "source": [
    "# data.to_csv(\"hosgeoinfo.csv\", encoding = 'utf-8', index = False )"
   ]
  },
  {
   "cell_type": "code",
   "execution_count": 29,
   "metadata": {},
   "outputs": [
    {
     "name": "stdout",
     "output_type": "stream",
     "text": [
      "            lng        lat\n",
      "0    114.102871  22.573582\n",
      "1    114.250695  22.694379\n",
      "2    113.950350  22.542872\n",
      "3    113.896747  22.544290\n",
      "4    114.112688  22.608452\n",
      "..          ...        ...\n",
      "176  114.046030  22.713109\n",
      "177  114.351242  22.687505\n",
      "178  114.369133  22.746296\n",
      "179  113.944037  22.751932\n",
      "180  114.085613  22.558014\n",
      "\n",
      "[181 rows x 2 columns]\n"
     ]
    }
   ],
   "source": [
    "# data = data.to_json()\n",
    "data2 = json_normalize(data['location'])\n",
    "print(data2)"
   ]
  },
  {
   "cell_type": "code",
   "execution_count": 30,
   "metadata": {},
   "outputs": [],
   "source": [
    "data2['hosname']=data[\"hosname\"]\n",
    "data2['level']= data['level']\n",
    "data2['precise'] = data['precise']\n",
    "data2['confidence'] = data['confidence']"
   ]
  },
  {
   "cell_type": "code",
   "execution_count": 31,
   "metadata": {},
   "outputs": [
    {
     "data": {
      "text/html": [
       "<div>\n",
       "<style scoped>\n",
       "    .dataframe tbody tr th:only-of-type {\n",
       "        vertical-align: middle;\n",
       "    }\n",
       "\n",
       "    .dataframe tbody tr th {\n",
       "        vertical-align: top;\n",
       "    }\n",
       "\n",
       "    .dataframe thead th {\n",
       "        text-align: right;\n",
       "    }\n",
       "</style>\n",
       "<table border=\"1\" class=\"dataframe\">\n",
       "  <thead>\n",
       "    <tr style=\"text-align: right;\">\n",
       "      <th></th>\n",
       "      <th>lng</th>\n",
       "      <th>lat</th>\n",
       "      <th>hosname</th>\n",
       "      <th>level</th>\n",
       "      <th>precise</th>\n",
       "      <th>confidence</th>\n",
       "    </tr>\n",
       "  </thead>\n",
       "  <tbody>\n",
       "    <tr>\n",
       "      <td>0</td>\n",
       "      <td>114.102871</td>\n",
       "      <td>22.573582</td>\n",
       "      <td>中国人民武装警察边防部队总医院</td>\n",
       "      <td>医疗</td>\n",
       "      <td>1</td>\n",
       "      <td>70</td>\n",
       "    </tr>\n",
       "    <tr>\n",
       "      <td>1</td>\n",
       "      <td>114.250695</td>\n",
       "      <td>22.694379</td>\n",
       "      <td>中国医学科学院肿瘤医院深圳医院</td>\n",
       "      <td>医疗</td>\n",
       "      <td>0</td>\n",
       "      <td>70</td>\n",
       "    </tr>\n",
       "    <tr>\n",
       "      <td>2</td>\n",
       "      <td>113.950350</td>\n",
       "      <td>22.542872</td>\n",
       "      <td>北京大学深圳医院</td>\n",
       "      <td>宾馆</td>\n",
       "      <td>1</td>\n",
       "      <td>75</td>\n",
       "    </tr>\n",
       "    <tr>\n",
       "      <td>3</td>\n",
       "      <td>113.896747</td>\n",
       "      <td>22.544290</td>\n",
       "      <td>南方医科大学深圳医院</td>\n",
       "      <td>医疗</td>\n",
       "      <td>1</td>\n",
       "      <td>70</td>\n",
       "    </tr>\n",
       "    <tr>\n",
       "      <td>4</td>\n",
       "      <td>114.112688</td>\n",
       "      <td>22.608452</td>\n",
       "      <td>深圳万东医院</td>\n",
       "      <td>医疗</td>\n",
       "      <td>1</td>\n",
       "      <td>70</td>\n",
       "    </tr>\n",
       "  </tbody>\n",
       "</table>\n",
       "</div>"
      ],
      "text/plain": [
       "          lng        lat          hosname level  precise  confidence\n",
       "0  114.102871  22.573582  中国人民武装警察边防部队总医院    医疗        1          70\n",
       "1  114.250695  22.694379  中国医学科学院肿瘤医院深圳医院    医疗        0          70\n",
       "2  113.950350  22.542872         北京大学深圳医院    宾馆        1          75\n",
       "3  113.896747  22.544290       南方医科大学深圳医院    医疗        1          70\n",
       "4  114.112688  22.608452           深圳万东医院    医疗        1          70"
      ]
     },
     "execution_count": 31,
     "metadata": {},
     "output_type": "execute_result"
    }
   ],
   "source": [
    "data2.head()\n"
   ]
  },
  {
   "cell_type": "code",
   "execution_count": 32,
   "metadata": {},
   "outputs": [],
   "source": [
    "data2.to_csv(\"hosgeoinfo.csv\", encoding = 'utf-8', index = False )"
   ]
  },
  {
   "cell_type": "code",
   "execution_count": 118,
   "metadata": {},
   "outputs": [
    {
     "name": "stdout",
     "output_type": "stream",
     "text": [
      "          lng        lat\n",
      "0  114.102871  22.573582\n",
      "1  114.250695  22.694379\n",
      "2  113.950350  22.542872\n",
      "3  113.896747  22.544290\n",
      "4  114.112688  22.608452\n",
      "             hosname  precise  confidence  comprehension level         lng  \\\n",
      "0    中国人民武装警察边防部队总医院        1          70            100    医疗  114.102871   \n",
      "1    中国医学科学院肿瘤医院深圳医院        0          70            100    医疗  114.250695   \n",
      "2           北京大学深圳医院        1          75            100    宾馆  113.950350   \n",
      "3         南方医科大学深圳医院        1          70            100    医疗  113.896747   \n",
      "4             深圳万东医院        1          70            100    医疗  114.112688   \n",
      "..               ...      ...         ...            ...   ...         ...   \n",
      "176       深圳市龙华区中心医院        1          70            100    医疗  114.046030   \n",
      "177       深圳市坪山区人民医院        1          70            100    医疗  114.351242   \n",
      "178     深圳市坪山新区妇幼保健院        1          70            100    医疗  114.369133   \n",
      "179      中国科学院大学深圳医院        1          70            100    医疗  113.944037   \n",
      "180       深圳机场医疗急救中心        1          70            100    医疗  114.085613   \n",
      "\n",
      "           lat  \n",
      "0    22.573582  \n",
      "1    22.694379  \n",
      "2    22.542872  \n",
      "3    22.544290  \n",
      "4    22.608452  \n",
      "..         ...  \n",
      "176  22.713109  \n",
      "177  22.687505  \n",
      "178  22.746296  \n",
      "179  22.751932  \n",
      "180  22.558014  \n",
      "\n",
      "[181 rows x 7 columns]\n"
     ]
    }
   ],
   "source": [
    "# data.to_json()\n",
    "data3 = json_normalize(data['location'])\n",
    "print(data3.head())\n",
    "data[['lng','lat']]=data3[['lng','lat']]\n",
    "data=data.drop(columns=['location'])\n",
    "print(data)"
   ]
  },
  {
   "cell_type": "code",
   "execution_count": null,
   "metadata": {},
   "outputs": [],
   "source": []
  }
 ],
 "metadata": {
  "kernelspec": {
   "display_name": "Python 3",
   "language": "python",
   "name": "python3"
  },
  "language_info": {
   "codemirror_mode": {
    "name": "ipython",
    "version": 3
   },
   "file_extension": ".py",
   "mimetype": "text/x-python",
   "name": "python",
   "nbconvert_exporter": "python",
   "pygments_lexer": "ipython3",
   "version": "3.7.4"
  }
 },
 "nbformat": 4,
 "nbformat_minor": 2
}
