{
 "cells": [
  {
   "cell_type": "code",
   "execution_count": 182,
   "metadata": {},
   "outputs": [],
   "source": [
    "import pandas as pd\n",
    "import numpy as np"
   ]
  },
  {
   "cell_type": "code",
   "execution_count": 183,
   "metadata": {},
   "outputs": [
    {
     "name": "stdout",
     "output_type": "stream",
     "text": [
      "<class 'pandas.core.frame.DataFrame'>\n",
      "RangeIndex: 177 entries, 0 to 176\n",
      "Data columns (total 13 columns):\n",
      "REGION_CODE            177 non-null int64\n",
      "TELPHONE_NUMBER        177 non-null object\n",
      "ORGAN_CODE             177 non-null object\n",
      "ORGAN_FULL_NAME        177 non-null object\n",
      "ORGAN_POSTCODE         177 non-null object\n",
      "ORGAN_GRADE_CODE       177 non-null object\n",
      "ORGAN_TYPE_CODE        177 non-null object\n",
      "ORGAN_NAME             177 non-null object\n",
      "ORGAN_PLACE_CODE       177 non-null int64\n",
      "ORGAN_ADDRESS          177 non-null object\n",
      "ORGAN_CHARGE_PERSON    177 non-null object\n",
      "ECONOMY_TYPE_CODE      177 non-null int64\n",
      "ORGAN_EMAIL            177 non-null object\n",
      "dtypes: int64(3), object(10)\n",
      "memory usage: 18.1+ KB\n",
      "None\n"
     ]
    }
   ],
   "source": [
    "data = pd.read_csv(\"../../ShenzhenDataOrg/shenzhenHosOrg.csv\", encoding = 'utf-8')\n",
    "print(data.info())"
   ]
  },
  {
   "cell_type": "code",
   "execution_count": 184,
   "metadata": {},
   "outputs": [
    {
     "name": "stdout",
     "output_type": "stream",
     "text": [
      "          ZM  FWDH                                                 DZ    GXSJ  \\\n",
      "0    深圳市人民医院   120  深圳市罗湖区东门北路1017号大院和深圳市南山区龙苑路16号龙珠医院门诊楼一楼东、西侧；深圳...  2017年度   \n",
      "1  深圳市第二人民医院   120                                    深圳市福田区笋岗西路3002号  2017年度   \n",
      "2   北京大学深圳医院   120                        深圳市福田区莲花路1120号和龙岗区坂田街道华为百草园  2017年度   \n",
      "3     深圳市中医院   120                     深圳市福华路1号/罗湖区解放路3015号/罗湖区迎春路15号  2017年度   \n",
      "4  深圳市第三人民医院   120                                       深圳市龙岗区布澜路29号  2017年度   \n",
      "\n",
      "   ID  \n",
      "0   1  \n",
      "1   2  \n",
      "2   3  \n",
      "3   4  \n",
      "4   5  \n"
     ]
    }
   ],
   "source": [
    "emcdata = pd.read_csv(\"../../ShenzhenDataOrg/emcHos.csv\", encoding = 'utf-8')\n",
    "print(emcdata.head())"
   ]
  },
  {
   "cell_type": "code",
   "execution_count": 185,
   "metadata": {},
   "outputs": [
    {
     "data": {
      "text/plain": [
       "True"
      ]
     },
     "execution_count": 185,
     "metadata": {},
     "output_type": "execute_result"
    }
   ],
   "source": [
    "data[\"ORGAN_FULL_NAME\"][2]==emcdata[\"ZM\"][2]"
   ]
  },
  {
   "cell_type": "markdown",
   "metadata": {},
   "source": [
    "##### Checking the emergency hospitals."
   ]
  },
  {
   "cell_type": "code",
   "execution_count": 186,
   "metadata": {},
   "outputs": [
    {
     "name": "stdout",
     "output_type": "stream",
     "text": [
      "       emc  ORGAN_FULL_NAME\n",
      "0    False  中国人民武装警察边防部队总医院\n",
      "1    False  中国医学科学院肿瘤医院深圳医院\n",
      "2     True         北京大学深圳医院\n",
      "3     True       南方医科大学深圳医院\n",
      "4    False           深圳万东医院\n",
      "..     ...              ...\n",
      "172  False           深圳龙安医院\n",
      "173  False           深圳龙济医院\n",
      "174   True           深圳龙翔医院\n",
      "175   True         香港大学深圳医院\n",
      "176  False         龙城心血管病医院\n",
      "\n",
      "[177 rows x 2 columns]\n"
     ]
    }
   ],
   "source": [
    "data[\"emc\"] = data[\"ORGAN_FULL_NAME\"].isin(emcdata[\"ZM\"])\n",
    "print(data[[\"emc\",\"ORGAN_FULL_NAME\"]])"
   ]
  },
  {
   "cell_type": "markdown",
   "metadata": {},
   "source": [
    "##### Find out the emergency hospitals which are missing"
   ]
  },
  {
   "cell_type": "code",
   "execution_count": 187,
   "metadata": {},
   "outputs": [
    {
     "name": "stdout",
     "output_type": "stream",
     "text": [
      "0      True\n",
      "1      True\n",
      "2      True\n",
      "3      True\n",
      "4      True\n",
      "      ...  \n",
      "67     True\n",
      "68     True\n",
      "69     True\n",
      "70    False\n",
      "71     True\n",
      "Name: isin, Length: 72, dtype: bool\n"
     ]
    }
   ],
   "source": [
    "emcdata[\"isin\"] = emcdata[\"ZM\"].isin(data[\"ORGAN_FULL_NAME\"])\n",
    "print  (emcdata[\"isin\"])"
   ]
  },
  {
   "cell_type": "code",
   "execution_count": 188,
   "metadata": {},
   "outputs": [],
   "source": [
    "data2 = data.copy()"
   ]
  },
  {
   "cell_type": "markdown",
   "metadata": {},
   "source": [
    "##### find out those mising hospitals and add them to the main list"
   ]
  },
  {
   "cell_type": "code",
   "execution_count": 189,
   "metadata": {},
   "outputs": [
    {
     "name": "stdout",
     "output_type": "stream",
     "text": [
      "9\n",
      "10\n",
      "11\n",
      "12\n",
      "13\n",
      "16\n",
      "17\n",
      "23\n",
      "28\n",
      "35\n",
      "41\n",
      "42\n",
      "43\n",
      "44\n",
      "45\n",
      "49\n",
      "50\n",
      "70\n"
     ]
    }
   ],
   "source": [
    "for index,row in enumerate(emcdata[\"ZM\"]):\n",
    "    if emcdata['isin'][index] == False:\n",
    "        print(index)\n",
    "        data2= data2.append({\"ORGAN_FULL_NAME\":row, \"ORGAN_ADDRESS\": emcdata[\"DZ\"][index],\"emc\":True}, ignore_index=True) "
   ]
  },
  {
   "cell_type": "code",
   "execution_count": 190,
   "metadata": {},
   "outputs": [
    {
     "name": "stdout",
     "output_type": "stream",
     "text": [
      "     REGION_CODE TELPHONE_NUMBER ORGAN_CODE  ORGAN_FULL_NAME ORGAN_POSTCODE  \\\n",
      "0       440303.0        82699999  455768366  中国人民武装警察边防部队总医院         518029   \n",
      "1       440307.0        66618168  PDY712164  中国医学科学院肿瘤医院深圳医院         518000   \n",
      "2       440304.0   0755-83923333  455755741         北京大学深圳医院         518036   \n",
      "3       440306.0     13710898870  319583850       南方医科大学深圳医院         518000   \n",
      "4       440307.0   0755-61215958  PDY000917           深圳万东医院         518112   \n",
      "..           ...             ...        ...              ...            ...   \n",
      "190          NaN             NaN        NaN      深圳市坪山区妇幼保健院            NaN   \n",
      "191          NaN             NaN        NaN      中国科学院大学深圳医院            NaN   \n",
      "192          NaN             NaN        NaN        深圳平乐骨伤科医院            NaN   \n",
      "193          NaN             NaN        NaN           深圳武警医院            NaN   \n",
      "194          NaN             NaN        NaN       深圳机场医疗急救中心            NaN   \n",
      "\n",
      "    ORGAN_GRADE_CODE ORGAN_TYPE_CODE       ORGAN_NAME  ORGAN_PLACE_CODE  \\\n",
      "0                  1            A100  中国人民武装警察边防部队总医院       440303010.0   \n",
      "1                  9            A514  中国医学科学院肿瘤医院深圳医院       440307016.0   \n",
      "2                  3            A100         北京大学深圳医院       440304008.0   \n",
      "3                  9            A100       南方医科大学深圳医院       440306001.0   \n",
      "4                  9            A100           深圳万东医院       440307014.0   \n",
      "..               ...             ...              ...               ...   \n",
      "190              NaN             NaN              NaN               NaN   \n",
      "191              NaN             NaN              NaN               NaN   \n",
      "192              NaN             NaN              NaN               NaN   \n",
      "193              NaN             NaN              NaN               NaN   \n",
      "194              NaN             NaN              NaN               NaN   \n",
      "\n",
      "                                  ORGAN_ADDRESS ORGAN_CHARGE_PERSON  \\\n",
      "0                                      罗湖区红岗路8号                 张益谋   \n",
      "1                                 深圳市龙岗区宝荷路113号                  付林   \n",
      "2                                   深圳市莲花路1120号                   -   \n",
      "3                                深圳市宝安区新湖路1333号                 廖四照   \n",
      "4                               深圳市龙岗区布吉吉华路219号                   -   \n",
      "..                                          ...                 ...   \n",
      "190                            深圳市坪山区坑梓街道龙兴南路6号                 NaN   \n",
      "191     深圳市光明新区马田街道松白路将石段4253号、4221号和光明街道华夏路39号                 NaN   \n",
      "192  深圳市罗湖区金塘街40号、45号及金华街15号,坪山区坑梓街道坪山大道坑梓段252号                 NaN   \n",
      "193                                 深圳市罗湖区金湖路8号                 NaN   \n",
      "194                           深圳市宝安区机场航站四路2040号                 NaN   \n",
      "\n",
      "     ECONOMY_TYPE_CODE ORGAN_EMAIL    emc  \n",
      "0                 11.0           -  False  \n",
      "1                 11.0           -  False  \n",
      "2                 11.0           -   True  \n",
      "3                 11.0           -   True  \n",
      "4                 17.0           -  False  \n",
      "..                 ...         ...    ...  \n",
      "190                NaN         NaN   True  \n",
      "191                NaN         NaN   True  \n",
      "192                NaN         NaN   True  \n",
      "193                NaN         NaN   True  \n",
      "194                NaN         NaN   True  \n",
      "\n",
      "[195 rows x 14 columns]\n"
     ]
    }
   ],
   "source": [
    "print(data2)"
   ]
  },
  {
   "cell_type": "markdown",
   "metadata": {},
   "source": [
    "##### the samilar process, checking level 3 hospitals"
   ]
  },
  {
   "cell_type": "code",
   "execution_count": 191,
   "metadata": {},
   "outputs": [],
   "source": [
    "lv3data = pd.read_csv(\"../../ShenzhenDataOrg/szlevel3Hos.csv\", encoding = 'utf-8')"
   ]
  },
  {
   "cell_type": "code",
   "execution_count": 192,
   "metadata": {},
   "outputs": [
    {
     "name": "stdout",
     "output_type": "stream",
     "text": [
      "     islv3  ORGAN_FULL_NAME\n",
      "0    False  中国人民武装警察边防部队总医院\n",
      "1     True  中国医学科学院肿瘤医院深圳医院\n",
      "2     True         北京大学深圳医院\n",
      "3     True       南方医科大学深圳医院\n",
      "4    False           深圳万东医院\n",
      "..     ...              ...\n",
      "190  False      深圳市坪山区妇幼保健院\n",
      "191   True      中国科学院大学深圳医院\n",
      "192   True        深圳平乐骨伤科医院\n",
      "193  False           深圳武警医院\n",
      "194  False       深圳机场医疗急救中心\n",
      "\n",
      "[195 rows x 2 columns]\n"
     ]
    }
   ],
   "source": [
    "data2[\"islv3\"] = data2[\"ORGAN_FULL_NAME\"].isin(lv3data[\"MC\"])\n",
    "print  (data2[[\"islv3\",\"ORGAN_FULL_NAME\"]] )\n"
   ]
  },
  {
   "cell_type": "code",
   "execution_count": 193,
   "metadata": {},
   "outputs": [
    {
     "name": "stdout",
     "output_type": "stream",
     "text": [
      "     ORGAN_FULL_NAME    emc                               ORGAN_ADDRESS  islv3\n",
      "0    中国人民武装警察边防部队总医院  False                                    罗湖区红岗路8号  False\n",
      "1    中国医学科学院肿瘤医院深圳医院  False                               深圳市龙岗区宝荷路113号   True\n",
      "2           北京大学深圳医院   True                                 深圳市莲花路1120号   True\n",
      "3         南方医科大学深圳医院   True                              深圳市宝安区新湖路1333号   True\n",
      "4             深圳万东医院  False                             深圳市龙岗区布吉吉华路219号  False\n",
      "..               ...    ...                                         ...    ...\n",
      "190      深圳市坪山区妇幼保健院   True                            深圳市坪山区坑梓街道龙兴南路6号  False\n",
      "191      中国科学院大学深圳医院   True     深圳市光明新区马田街道松白路将石段4253号、4221号和光明街道华夏路39号   True\n",
      "192        深圳平乐骨伤科医院   True  深圳市罗湖区金塘街40号、45号及金华街15号,坪山区坑梓街道坪山大道坑梓段252号   True\n",
      "193           深圳武警医院   True                                 深圳市罗湖区金湖路8号  False\n",
      "194       深圳机场医疗急救中心   True                           深圳市宝安区机场航站四路2040号  False\n",
      "\n",
      "[195 rows x 4 columns]\n"
     ]
    }
   ],
   "source": [
    "outputData = data2[['ORGAN_FULL_NAME', \"emc\",\"ORGAN_ADDRESS\", \"islv3\"]]\n",
    "print(outputData)"
   ]
  },
  {
   "cell_type": "code",
   "execution_count": 194,
   "metadata": {},
   "outputs": [
    {
     "data": {
      "text/plain": [
       "False    155\n",
       "True      40\n",
       "Name: islv3, dtype: int64"
      ]
     },
     "execution_count": 194,
     "metadata": {},
     "output_type": "execute_result"
    }
   ],
   "source": [
    "outputData[\"islv3\"].describe()\n",
    "outputData[\"islv3\"].value_counts()"
   ]
  },
  {
   "cell_type": "code",
   "execution_count": 195,
   "metadata": {},
   "outputs": [],
   "source": [
    "lv3data[\"isin\"] = lv3data[\"MC\"].isin(data2[\"ORGAN_FULL_NAME\"])\n",
    "for index, element in enumerate(lv3data['isin']):\n",
    "    if element == False:\n",
    "        print(lv3data['MC'][index])"
   ]
  },
  {
   "cell_type": "code",
   "execution_count": 196,
   "metadata": {},
   "outputs": [],
   "source": [
    "outputData.to_csv('hospitalCombined.csv', encoding = 'utf-8', index = False)"
   ]
  },
  {
   "cell_type": "code",
   "execution_count": 201,
   "metadata": {},
   "outputs": [],
   "source": [
    "CleanedData = pd.read_csv(\"../../ShenzhenDataOrg/szMajorHospitalsManaged.csv\", encoding = 'utf-8')"
   ]
  },
  {
   "cell_type": "code",
   "execution_count": 203,
   "metadata": {},
   "outputs": [],
   "source": [
    "CleanedData.to_json('szHospitalv1.json', orient='records', force_ascii = False)"
   ]
  },
  {
   "cell_type": "code",
   "execution_count": null,
   "metadata": {},
   "outputs": [],
   "source": []
  }
 ],
 "metadata": {
  "kernelspec": {
   "display_name": "Python 3",
   "language": "python",
   "name": "python3"
  },
  "language_info": {
   "codemirror_mode": {
    "name": "ipython",
    "version": 3
   },
   "file_extension": ".py",
   "mimetype": "text/x-python",
   "name": "python",
   "nbconvert_exporter": "python",
   "pygments_lexer": "ipython3",
   "version": "3.7.4"
  }
 },
 "nbformat": 4,
 "nbformat_minor": 2
}
