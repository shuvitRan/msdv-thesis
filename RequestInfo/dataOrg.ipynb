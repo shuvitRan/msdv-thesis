{
 "cells": [
  {
   "cell_type": "code",
   "execution_count": 1,
   "metadata": {},
   "outputs": [],
   "source": [
    "import pandas as pd\n",
    "import numpy as np"
   ]
  },
  {
   "cell_type": "code",
   "execution_count": 8,
   "metadata": {},
   "outputs": [
    {
     "name": "stdout",
     "output_type": "stream",
     "text": [
      "   REGION_CODE TELPHONE_NUMBER ORGAN_CODE  ORGAN_FULL_NAME ORGAN_POSTCODE  \\\n",
      "0       440303        82699999  455768366  中国人民武装警察边防部队总医院         518029   \n",
      "1       440307        66618168  PDY712164  中国医学科学院肿瘤医院深圳医院         518000   \n",
      "2       440304   0755-83923333  455755741         北京大学深圳医院         518036   \n",
      "3       440306     13710898870  319583850       南方医科大学深圳医院         518000   \n",
      "4       440307   0755-61215958  PDY000917           深圳万东医院         518112   \n",
      "\n",
      "  ORGAN_GRADE_CODE ORGAN_TYPE_CODE       ORGAN_NAME  ORGAN_PLACE_CODE  \\\n",
      "0                1            A100  中国人民武装警察边防部队总医院         440303010   \n",
      "1                9            A514  中国医学科学院肿瘤医院深圳医院         440307016   \n",
      "2                3            A100         北京大学深圳医院         440304008   \n",
      "3                9            A100       南方医科大学深圳医院         440306001   \n",
      "4                9            A100           深圳万东医院         440307014   \n",
      "\n",
      "     ORGAN_ADDRESS ORGAN_CHARGE_PERSON  ECONOMY_TYPE_CODE ORGAN_EMAIL  \n",
      "0         罗湖区红岗路8号                 张益谋                 11           -  \n",
      "1    深圳市龙岗区宝荷路113号                  付林                 11           -  \n",
      "2      深圳市莲花路1120号                   -                 11           -  \n",
      "3   深圳市宝安区新湖路1333号                 廖四照                 11           -  \n",
      "4  深圳市龙岗区布吉吉华路219号                   -                 17           -  \n"
     ]
    }
   ],
   "source": [
    "data = pd.read_csv(\"../../ShenzhenDataOrg/shenzhenHosOrg.csv\", encoding = 'utf-8')\n",
    "print(data.head())"
   ]
  },
  {
   "cell_type": "code",
   "execution_count": 12,
   "metadata": {},
   "outputs": [
    {
     "name": "stdout",
     "output_type": "stream",
     "text": [
      "          ZM  FWDH                                                 DZ    GXSJ  \\\n",
      "0    深圳市人民医院   120  深圳市罗湖区东门北路1017号大院和深圳市南山区龙苑路16号龙珠医院门诊楼一楼东、西侧；深圳...  2017年度   \n",
      "1  深圳市第二人民医院   120                                    深圳市福田区笋岗西路3002号  2017年度   \n",
      "2   北京大学深圳医院   120                        深圳市福田区莲花路1120号和龙岗区坂田街道华为百草园  2017年度   \n",
      "3     深圳市中医院   120                     深圳市福华路1号/罗湖区解放路3015号/罗湖区迎春路15号  2017年度   \n",
      "4  深圳市第三人民医院   120                                       深圳市龙岗区布澜路29号  2017年度   \n",
      "\n",
      "   ID  \n",
      "0   1  \n",
      "1   2  \n",
      "2   3  \n",
      "3   4  \n",
      "4   5  \n"
     ]
    }
   ],
   "source": [
    "emcdata = pd.read_csv(\"../../ShenzhenDataOrg/emcHos.csv\", encoding = 'utf-8')\n",
    "print(emcdata.head())"
   ]
  },
  {
   "cell_type": "code",
   "execution_count": 68,
   "metadata": {},
   "outputs": [],
   "source": [
    "for elem in data[\"ORGAN_FULL_NAME\"]:\n",
    "    for elem2 in emcdata[\"ZM\"]:\n",
    "        if elem in elem2:\n",
    "            data[\"emc\"] = True\n",
    "        \n"
   ]
  },
  {
   "cell_type": "code",
   "execution_count": 69,
   "metadata": {},
   "outputs": [
    {
     "name": "stdout",
     "output_type": "stream",
     "text": [
      "      emc  ORGAN_FULL_NAME\n",
      "0    True  中国人民武装警察边防部队总医院\n",
      "1    True  中国医学科学院肿瘤医院深圳医院\n",
      "2    True         北京大学深圳医院\n",
      "3    True       南方医科大学深圳医院\n",
      "4    True           深圳万东医院\n",
      "..    ...              ...\n",
      "172  True           深圳龙安医院\n",
      "173  True           深圳龙济医院\n",
      "174  True           深圳龙翔医院\n",
      "175  True         香港大学深圳医院\n",
      "176  True         龙城心血管病医院\n",
      "\n",
      "[177 rows x 2 columns]\n"
     ]
    }
   ],
   "source": [
    "print(data[[\"emc\",\"ORGAN_FULL_NAME\"]])"
   ]
  },
  {
   "cell_type": "code",
   "execution_count": 49,
   "metadata": {},
   "outputs": [
    {
     "data": {
      "text/plain": [
       "True"
      ]
     },
     "execution_count": 49,
     "metadata": {},
     "output_type": "execute_result"
    }
   ],
   "source": [
    "data[\"ORGAN_FULL_NAME\"][2]==emcdata[\"ZM\"][2]"
   ]
  },
  {
   "cell_type": "code",
   "execution_count": 64,
   "metadata": {},
   "outputs": [],
   "source": [
    "data[\"emc\"] = data[\"ORGAN_FULL_NAME\"].isin(emcdata[\"ZM\"])"
   ]
  },
  {
   "cell_type": "code",
   "execution_count": 65,
   "metadata": {},
   "outputs": [
    {
     "name": "stdout",
     "output_type": "stream",
     "text": [
      "       emc  ORGAN_FULL_NAME\n",
      "0    False  中国人民武装警察边防部队总医院\n",
      "1    False  中国医学科学院肿瘤医院深圳医院\n",
      "2     True         北京大学深圳医院\n",
      "3     True       南方医科大学深圳医院\n",
      "4    False           深圳万东医院\n",
      "..     ...              ...\n",
      "172  False           深圳龙安医院\n",
      "173  False           深圳龙济医院\n",
      "174   True           深圳龙翔医院\n",
      "175   True         香港大学深圳医院\n",
      "176  False         龙城心血管病医院\n",
      "\n",
      "[177 rows x 2 columns]\n"
     ]
    }
   ],
   "source": [
    "print(data[[\"emc\",\"ORGAN_FULL_NAME\"]])"
   ]
  },
  {
   "cell_type": "code",
   "execution_count": null,
   "metadata": {},
   "outputs": [],
   "source": []
  }
 ],
 "metadata": {
  "kernelspec": {
   "display_name": "Python 3",
   "language": "python",
   "name": "python3"
  },
  "language_info": {
   "codemirror_mode": {
    "name": "ipython",
    "version": 3
   },
   "file_extension": ".py",
   "mimetype": "text/x-python",
   "name": "python",
   "nbconvert_exporter": "python",
   "pygments_lexer": "ipython3",
   "version": "3.7.4"
  }
 },
 "nbformat": 4,
 "nbformat_minor": 2
}
